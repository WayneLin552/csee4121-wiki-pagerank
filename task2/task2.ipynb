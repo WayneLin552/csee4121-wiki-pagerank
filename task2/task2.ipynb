{
 "cells": [
  {
   "cell_type": "code",
   "execution_count": null,
   "id": "e6d82f00",
   "metadata": {},
   "outputs": [],
   "source": [
    "#!/usr/bin/env python\n",
    "# coding: utf-8\n",
    "\n",
    "# In[1]:\n",
    "from pyspark.sql import SparkSession\n",
    "import re\n",
    "import xml.etree.ElementTree as ET\n",
    "from pyspark.sql.functions import udf, explode, col, when, lower\n",
    "from pyspark.sql.types import ArrayType, StringType\n",
    "spark = SparkSession.builder.getOrCreate()\n",
    "df = spark.read.format('xml').options(rowTag='page').load('hdfs:/wiki-whole.xml')\n",
    "#df.printSchema()"
   ]
  },
  {
   "cell_type": "code",
   "execution_count": null,
   "id": "4a16557e",
   "metadata": {},
   "outputs": [],
   "source": [
    "# In[2]:\n",
    "\n",
    "import re\n",
    "#write the udf and regrex function\n",
    "def extract_text(text):\n",
    "    try:\n",
    "        match = re.findall(r'\\[\\[[^\\[\\]]+\\]\\]',text)\n",
    "    except:\n",
    "        match = []\n",
    "    output = []\n",
    "    for link in match:\n",
    "        temp = link.split('|')[0].lower()\n",
    "        if (':' in temp) and ('Category:' not in temp):\n",
    "            continue\n",
    "        elif '#' in temp:\n",
    "            continue\n",
    "        else: output.append(temp)\n",
    "    return [re.sub(r'\\[|\\]','',a) for a in output]\n"
   ]
  },
  {
   "cell_type": "code",
   "execution_count": null,
   "id": "e57931ff",
   "metadata": {},
   "outputs": [],
   "source": [
    "# In[3]:\n",
    "\n",
    "udf_extract_text = udf(lambda x:extract_text(x), ArrayType(StringType()))\n",
    "#select columns that we need\n",
    "df2 = df.select(col('title'), col('revision.text._VALUE').alias('links'))\n",
    "#explode the links column\n",
    "df2 = df2.withColumn('internal_links',explode(udf_extract_text(df2['links'])))\n",
    "#lower all the rows\n",
    "df2 = df2.select(lower(col('title')).alias('title'),col('internal_links').alias('internal_links'))\n",
    "#drop na rows\n",
    "df2 = df2.select(col('title'),col('internal_links')).na.drop()\n",
    "#sort rows in ascending order\n",
    "df2  = df2.select(col('title'),col('internal_links')).sort(['title','internal_links'],ascending=True)"
   ]
  },
  {
   "cell_type": "code",
   "execution_count": null,
   "id": "cead6fe0",
   "metadata": {},
   "outputs": [],
   "source": [
    "# In[4]:\n",
    "#write the output to a csv file seperated with \\t\n",
    "df2.limit(10).write.csv('gs://programming-hw2-1-bucket/notebooks/jupyter/task2', mode = 'overwrite',sep='\\t')"
   ]
  }
 ],
 "metadata": {
  "kernelspec": {
   "display_name": "Python 3",
   "language": "python",
   "name": "python3"
  },
  "language_info": {
   "codemirror_mode": {
    "name": "ipython",
    "version": 3
   },
   "file_extension": ".py",
   "mimetype": "text/x-python",
   "name": "python",
   "nbconvert_exporter": "python",
   "pygments_lexer": "ipython3",
   "version": "3.8.15"
  }
 },
 "nbformat": 4,
 "nbformat_minor": 5
}