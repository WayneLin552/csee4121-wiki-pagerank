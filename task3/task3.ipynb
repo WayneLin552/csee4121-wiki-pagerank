{
 "cells": [
  {
   "cell_type": "code",
   "execution_count": 9,
   "id": "86d51593",
   "metadata": {},
   "outputs": [],
   "source": [
    "from pyspark.sql import SparkSession\n",
    "import pandas as pd\n",
    "from collections import Counter"
   ]
  },
  {
   "cell_type": "code",
   "execution_count": 10,
   "id": "2c1aae24",
   "metadata": {},
   "outputs": [
    {
     "name": "stderr",
     "output_type": "stream",
     "text": [
      "                                                                                \r"
     ]
    }
   ],
   "source": [
    "spark = SparkSession.builder.getOrCreate()\n",
    "df = spark.read.csv('gs://programming-hw2-1-bucket/notebooks/jupyter/task2/part-00000-4c276f20-f2fd-4803-8321-6ce555355788-c000.csv',\n",
    "                   inferSchema=True,header=False,sep='\\t')"
   ]
  },
  {
   "cell_type": "code",
   "execution_count": 30,
   "id": "ff484802",
   "metadata": {},
   "outputs": [],
   "source": [
    "#df.show()"
   ]
  },
  {
   "cell_type": "code",
   "execution_count": 16,
   "id": "127e27e7",
   "metadata": {},
   "outputs": [],
   "source": [
    "def get_article_counter(input_file):\n",
    "    '''\n",
    "    get articles and their related titles, then get counter of neighbors\n",
    "    '''\n",
    "    articles={}\n",
    "    counter = []\n",
    "    for item in input_file.collect():\n",
    "        left, right = item\n",
    "        counter.append(left)\n",
    "        articles[right] = articles.get(right,[])+[left]\n",
    "        articles[left] = articles.get(left,[])\n",
    "    counter = Counter(counter)\n",
    "    return articles, counter\n",
    "\n",
    "def init_rank(articles):\n",
    "    '''\n",
    "    initial ranks\n",
    "    '''\n",
    "    ranks = {}\n",
    "    for article in articles:\n",
    "        ranks[article] = 1\n",
    "    return ranks\n",
    "\n",
    "def cal_contributions(articles,counter,ranks):\n",
    "    '''\n",
    "    calculate the contributions of each article\n",
    "    '''\n",
    "    contributions = {}\n",
    "    for article in articles:\n",
    "        contributions[article]=0\n",
    "        neighbor = articles[article]\n",
    "        for i in neighbor:\n",
    "            contributions[article] +=ranks[i]/counter[i]\n",
    "    return contributions\n",
    "\n",
    "def update_rank(ranks, contributions):\n",
    "    '''\n",
    "    update ranks base on contributions\n",
    "    '''\n",
    "    for article in ranks:\n",
    "        ranks[article] = 0.15+0.85*contributions[article]\n",
    "    return ranks\n",
    "        "
   ]
  },
  {
   "cell_type": "code",
   "execution_count": 28,
   "id": "8807b855",
   "metadata": {},
   "outputs": [],
   "source": [
    "if __name__=='__main__':\n",
    "    articles, counter = get_article_counter(df)\n",
    "    ranks = init_rank(articles)\n",
    "    for i in range(10):\n",
    "        contributions = cal_contributions(articles,counter,ranks)\n",
    "        ranks = update_rank(ranks,contributions)\n",
    "    result = pd.DataFrame(ranks.items(),columns=['title','rank'])\n",
    "    result = result.sort_values(by=['rank','title'],ascending=True)\n",
    "    result.head(10).to_csv('gs://programming-hw2-1-bucket/notebooks/jupyter/task3.csv',header=False,sep='\\t',index=False,encoding='utf-8')\n",
    "        "
   ]
  },
  {
   "cell_type": "code",
   "execution_count": 29,
   "id": "f723b580",
   "metadata": {},
   "outputs": [],
   "source": [
    "#result.sort_values(by=['rank','title'],ascending=True).head()"
   ]
  },
  {
   "cell_type": "code",
   "execution_count": null,
   "id": "6be8663c",
   "metadata": {},
   "outputs": [],
   "source": []
  },
  {
   "cell_type": "code",
   "execution_count": null,
   "id": "790c2228",
   "metadata": {},
   "outputs": [],
   "source": []
  }
 ],
 "metadata": {
  "kernelspec": {
   "display_name": "Python 3",
   "language": "python",
   "name": "python3"
  },
  "language_info": {
   "codemirror_mode": {
    "name": "ipython",
    "version": 3
   },
   "file_extension": ".py",
   "mimetype": "text/x-python",
   "name": "python",
   "nbconvert_exporter": "python",
   "pygments_lexer": "ipython3",
   "version": "3.8.15"
  }
 },
 "nbformat": 4,
 "nbformat_minor": 5
}